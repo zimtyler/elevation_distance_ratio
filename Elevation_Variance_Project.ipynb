{
 "cells": [
  {
   "cell_type": "code",
   "execution_count": 3,
   "id": "e40b0846",
   "metadata": {},
   "outputs": [],
   "source": [
    "import random\n",
    "import requests\n",
    "import numpy as np\n",
    "import pandas as pd\n",
    "import matplotlib.pyplot as plt\n",
    "import seaborn as sns\n",
    "\n",
    "\n",
    "# # Thornton, CO\n",
    "latitude = 39.903057\n",
    "longitude = -104.954445\n",
    "#Ann Arbor\n",
    "# latitude = 42.2808256\n",
    "# longitude = -83.7430378\n",
    "# # Omaha\n",
    "# latitude = 41.257160\n",
    "# longitude = -95.995102\n",
    "# Concord\n",
    "# latitude =  37.989128\n",
    "# longitude = -122.043686"
   ]
  },
  {
   "cell_type": "code",
   "execution_count": 4,
   "id": "c3cc9a5e",
   "metadata": {},
   "outputs": [],
   "source": [
    "def generate_points(lat, lon, num_loc):\n",
    "    area_dict = {}\n",
    "    random.seed(12)\n",
    "    \n",
    "    for x in range(num_loc):\n",
    "        lat_change = random.uniform(-1, 1)/2\n",
    "        lon_change = random.uniform(-1, 1)/2\n",
    "        area_dict[x] = [lat+lat_change, lon+lon_change]\n",
    "    return area_dict"
   ]
  },
  {
   "cell_type": "code",
   "execution_count": 5,
   "id": "4e349c9c",
   "metadata": {},
   "outputs": [],
   "source": [
    "area_dict = generate_points(latitude, longitude, 300)"
   ]
  },
  {
   "cell_type": "code",
   "execution_count": 8,
   "id": "93e2da71",
   "metadata": {},
   "outputs": [],
   "source": [
    "def make_url(area_dict, auth_key):\n",
    "    lat_long_values = ''\n",
    "    \n",
    "    for key, value in area_dict.items():\n",
    "        if key == 0 or isinstance(key, str):\n",
    "            lat_long_values += str(value[0]) + '%2C' + str(value[1])\n",
    "        else:\n",
    "            lat_long_values += '%7C' + str(value[0]) + '%2C' + str(value[1])\n",
    "    \n",
    "    return(f\"https://maps.googleapis.com/maps/api/elevation/json?locations={lat_long_values}&key={auth_key}\")"
   ]
  },
  {
   "cell_type": "code",
   "execution_count": 9,
   "id": "0ad131a5",
   "metadata": {},
   "outputs": [],
   "source": [
    "epicenter = {}\n",
    "epicenter[0] = [latitude, longitude]\n",
    "epicenter_url = make_url(epicenter, '<key>')"
   ]
  },
  {
   "cell_type": "code",
   "execution_count": 10,
   "id": "d99a27ad",
   "metadata": {},
   "outputs": [],
   "source": [
    "url = make_url(area_dict, '<key>')"
   ]
  },
  {
   "cell_type": "code",
   "execution_count": 11,
   "id": "78292918",
   "metadata": {},
   "outputs": [],
   "source": [
    "response = requests.get(url)\n",
    "json_data = response.json()"
   ]
  },
  {
   "cell_type": "code",
   "execution_count": 12,
   "id": "a9095d36",
   "metadata": {},
   "outputs": [],
   "source": [
    "response_2 = requests.get(epicenter_url)\n",
    "json_data_2 = response_2.json()"
   ]
  },
  {
   "cell_type": "code",
   "execution_count": 13,
   "id": "09bf837f",
   "metadata": {},
   "outputs": [],
   "source": [
    "epicenter_data = json_data_2['results'][0]"
   ]
  },
  {
   "cell_type": "code",
   "execution_count": 14,
   "id": "e3923cb4",
   "metadata": {},
   "outputs": [
    {
     "name": "stdout",
     "output_type": "stream",
     "text": [
      "{'elevation': 1599.578491210938, 'location': {'lat': 39.903057, 'lng': -104.954445}, 'resolution': 4.771975994110107}\n"
     ]
    }
   ],
   "source": [
    "print(epicenter_data)"
   ]
  },
  {
   "cell_type": "code",
   "execution_count": 15,
   "id": "fed9e429",
   "metadata": {},
   "outputs": [],
   "source": [
    "epicenter_elevation = epicenter_data['elevation']"
   ]
  },
  {
   "cell_type": "code",
   "execution_count": 16,
   "id": "c1ccec8e",
   "metadata": {},
   "outputs": [],
   "source": [
    "df= pd.DataFrame(json_data['results'])"
   ]
  },
  {
   "cell_type": "code",
   "execution_count": 17,
   "id": "7a337788",
   "metadata": {},
   "outputs": [
    {
     "name": "stdout",
     "output_type": "stream",
     "text": [
      "dict_values([39.87762767868855, -104.7969724973428])\n"
     ]
    }
   ],
   "source": [
    "print(df['location'][0].values())"
   ]
  },
  {
   "cell_type": "code",
   "execution_count": 18,
   "id": "3088cb9a",
   "metadata": {},
   "outputs": [],
   "source": [
    "from math import radians, cos, sin, asin, sqrt\n",
    "\n",
    "def haversine(lon1, lat1, lon2, lat2):\n",
    "    \"\"\"\n",
    "    Calculate the great circle distance in kilometers between two points \n",
    "    on the earth (specified in decimal degrees)\n",
    "    \"\"\"\n",
    "    # convert decimal degrees to radians \n",
    "    lon1, lat1, lon2, lat2 = map(radians, [lon1, lat1, lon2, lat2])\n",
    "\n",
    "    # haversine formula \n",
    "    dlon = lon2 - lon1 \n",
    "    dlat = lat2 - lat1 \n",
    "    a = sin(dlat/2)**2 + cos(lat1) * cos(lat2) * sin(dlon/2)**2\n",
    "    c = 2 * asin(sqrt(a)) \n",
    "    r = 6371 # Radius of earth in kilometers. Use 3956 for miles. Determines return value units.\n",
    "    return c * r"
   ]
  },
  {
   "cell_type": "code",
   "execution_count": 19,
   "id": "18f0730b",
   "metadata": {},
   "outputs": [],
   "source": [
    "def dist_from_epi():\n",
    "    global latitude\n",
    "    global longitude\n",
    "    global area_dict\n",
    "    \n",
    "    hav_dist_list = []\n",
    "    \n",
    "    for x in range(len(area_dict)):\n",
    "        hav_dist_list.append(haversine(longitude, latitude, area_dict[x][1], area_dict[x][0]))\n",
    "   \n",
    "    return pd.DataFrame(hav_dist_list)\n"
   ]
  },
  {
   "cell_type": "code",
   "execution_count": 20,
   "id": "b8eb2298",
   "metadata": {},
   "outputs": [],
   "source": [
    "df2 = dist_from_epi()"
   ]
  },
  {
   "cell_type": "code",
   "execution_count": 21,
   "id": "254f34b7",
   "metadata": {},
   "outputs": [],
   "source": [
    "df['haver_dist_from_epi'] = df2*1000 #keep measures consistent (meters)"
   ]
  },
  {
   "cell_type": "code",
   "execution_count": 22,
   "id": "70f22b5a",
   "metadata": {},
   "outputs": [
    {
     "name": "stdout",
     "output_type": "stream",
     "text": [
      "     elevation                                           location  resolution  \\\n",
      "0  1572.958130  {'lat': 39.87762767868855, 'lng': -104.7969724...  152.703232   \n",
      "1  1879.926758  {'lat': 40.06946747112484, 'lng': -105.3118446...  305.406464   \n",
      "2  2094.060791  {'lat': 39.41391744309006, 'lng': -105.0796905...  152.703232   \n",
      "3  1759.011353  {'lat': 39.67710513947833, 'lng': -104.6440969...  305.406464   \n",
      "4  1499.167969  {'lat': 40.09364965303868, 'lng': -104.8529879...  152.703232   \n",
      "\n",
      "   haver_dist_from_epi  \n",
      "0         13729.395404  \n",
      "1         35630.995762  \n",
      "2         55436.497032  \n",
      "3         36529.141001  \n",
      "4         22887.342407  \n"
     ]
    }
   ],
   "source": [
    "print(df.head())"
   ]
  },
  {
   "cell_type": "code",
   "execution_count": 23,
   "id": "c356af49",
   "metadata": {},
   "outputs": [],
   "source": [
    "df['el_over_dist_ratio'] = (abs(df['elevation'] - epicenter_elevation)/df['haver_dist_from_epi'])"
   ]
  },
  {
   "cell_type": "code",
   "execution_count": 24,
   "id": "e3aa8f9e",
   "metadata": {},
   "outputs": [],
   "source": [
    "df['elevation_diff'] = abs(df['elevation'] - epicenter_elevation)"
   ]
  },
  {
   "cell_type": "code",
   "execution_count": 27,
   "id": "2c256109",
   "metadata": {},
   "outputs": [
    {
     "name": "stdout",
     "output_type": "stream",
     "text": [
      "       elevation                                           location  \\\n",
      "0    1572.958130  {'lat': 39.87762767868855, 'lng': -104.7969724...   \n",
      "1    1879.926758  {'lat': 40.06946747112484, 'lng': -105.3118446...   \n",
      "2    2094.060791  {'lat': 39.41391744309006, 'lng': -105.0796905...   \n",
      "3    1759.011353  {'lat': 39.67710513947833, 'lng': -104.6440969...   \n",
      "4    1499.167969  {'lat': 40.09364965303868, 'lng': -104.8529879...   \n",
      "..           ...                                                ...   \n",
      "295  1635.449829  {'lat': 39.83695914186348, 'lng': -105.0628073...   \n",
      "296  1802.043945  {'lat': 39.60345024588248, 'lng': -104.4915811...   \n",
      "297  1433.178711  {'lat': 40.31666773084797, 'lng': -104.8043597...   \n",
      "298  2000.032471  {'lat': 40.05315557399128, 'lng': -105.3103463...   \n",
      "299  2049.147705  {'lat': 39.94455744695547, 'lng': -105.2874664...   \n",
      "\n",
      "     resolution  haver_dist_from_epi  el_over_dist_ratio  elevation_diff  \n",
      "0    152.703232         13729.395404            0.001939       26.620361  \n",
      "1    305.406464         35630.995762            0.007868      280.348267  \n",
      "2    152.703232         55436.497032            0.008920      494.482300  \n",
      "3    305.406464         36529.141001            0.004365      159.432861  \n",
      "4    152.703232         22887.342407            0.004387      100.410522  \n",
      "..          ...                  ...                 ...             ...  \n",
      "295  152.703232         11812.793590            0.003037       35.871338  \n",
      "296  305.406464         51725.831312            0.003914      202.465454  \n",
      "297  152.703232         47729.658091            0.003486      166.399780  \n",
      "298  305.406464         34614.956696            0.011569      400.453979  \n",
      "299  305.406464         28770.946192            0.015626      449.569214  \n",
      "\n",
      "[300 rows x 6 columns]\n"
     ]
    }
   ],
   "source": [
    "print(df)"
   ]
  },
  {
   "cell_type": "markdown",
   "id": "be7d4f4c",
   "metadata": {},
   "source": [
    "Simple method:\n",
    "\n",
    "Calculate the haversine distance between the randomly generated points and the coordinates used to derive the points. Then, take the absolute value of the elevation difference and divide that by haversine distance to get an elevation change/distance ratio.\n"
   ]
  },
  {
   "cell_type": "code",
   "execution_count": 25,
   "id": "2e8b9fc9",
   "metadata": {},
   "outputs": [
    {
     "data": {
      "image/png": "[encoded data removed]",
      "text/plain": [
       "<Figure size 432x288 with 1 Axes>"
      ]
     },
     "metadata": {
      "needs_background": "light"
     },
     "output_type": "display_data"
    }
   ],
   "source": [
    "plt.hist(x=df['el_over_dist_ratio'], bins=100)\n",
    "plt.show()"
   ]
  },
  {
   "cell_type": "code",
   "execution_count": 28,
   "id": "4d23ff52",
   "metadata": {},
   "outputs": [
    {
     "data": {
      "image/png": "[encoded data removed]",
      "text/plain": [
       "<Figure size 432x288 with 1 Axes>"
      ]
     },
     "metadata": {
      "needs_background": "light"
     },
     "output_type": "display_data"
    }
   ],
   "source": [
    "x = np.sort(df['el_over_dist_ratio'])\n",
    "y = np.arange(1, len(x)+1) / len(x)\n",
    "\n",
    "plt.plot(x, y, marker='.', linestyle=None)\n",
    "plt.xlabel('ratio')\n",
    "plt.ylabel('ECDF')\n",
    "\n",
    "plt.margins(0.02) # keeps data off plot edges\n",
    "plt.show()"
   ]
  },
  {
   "cell_type": "code",
   "execution_count": 297,
   "id": "6b60cd3f",
   "metadata": {},
   "outputs": [],
   "source": [
    "df.to_csv('concord_ca_elevation.csv') #This has been done to all locations"
   ]
  },
  {
   "cell_type": "code",
   "execution_count": 29,
   "id": "2c671e7e",
   "metadata": {},
   "outputs": [],
   "source": [
    "ann_arbor_df = pd.read_csv('ann_arbor_mi_elevation.csv')"
   ]
  },
  {
   "cell_type": "code",
   "execution_count": 30,
   "id": "1911c03c",
   "metadata": {},
   "outputs": [
    {
     "name": "stdout",
     "output_type": "stream",
     "text": [
      "      elevation                                           location  \\\n",
      "0    231.850159  {'lat': 42.25539627868855, 'lng': -83.58556529...   \n",
      "1    289.423584  {'lat': 42.44723607112484, 'lng': -84.10043744...   \n",
      "2    214.254807  {'lat': 41.79168604309007, 'lng': -83.86828330...   \n",
      "3    189.908356  {'lat': 42.05487373947833, 'lng': -83.43268974...   \n",
      "4    292.249695  {'lat': 42.47141825303869, 'lng': -83.64158076...   \n",
      "..          ...                                                ...   \n",
      "295  284.113556  {'lat': 42.21472774186348, 'lng': -83.85140018...   \n",
      "296  177.071579  {'lat': 41.98121884588248, 'lng': -83.28017392...   \n",
      "297  336.319611  {'lat': 42.69443633084796, 'lng': -83.59295252...   \n",
      "298  276.723144  {'lat': 42.43092417399129, 'lng': -84.09893918...   \n",
      "299  295.210663  {'lat': 42.32232604695547, 'lng': -84.07605921...   \n",
      "\n",
      "     resolution  haver_dist_from_epi  el_over_dist_ratio  elevation_diff  \n",
      "0    305.406464          13262.53430            0.002386       31.642670  \n",
      "1    305.406464          34707.73494            0.000747       25.930756  \n",
      "2    305.406464          55364.63509            0.000889       49.238022  \n",
      "3    305.406464          35853.26601            0.002052       73.584473  \n",
      "4    305.406464          22772.72169            0.001263       28.756866  \n",
      "..          ...                  ...                 ...             ...  \n",
      "295  152.703232          11557.48651            0.001784       20.620728  \n",
      "296  305.406464          50663.21565            0.001706       86.421249  \n",
      "297  305.406464          47609.46867            0.001530       72.826782  \n",
      "298  305.406464          33671.94756            0.000393       13.230316  \n",
      "299  305.406464          27774.09187            0.001142       31.717834  \n",
      "\n",
      "[300 rows x 6 columns]\n"
     ]
    }
   ],
   "source": [
    "print(ann_arbor_df)"
   ]
  },
  {
   "cell_type": "code",
   "execution_count": 31,
   "id": "b7a426b8",
   "metadata": {},
   "outputs": [],
   "source": [
    "thornton_df = pd.read_csv('thornton_co_elevation.csv')"
   ]
  },
  {
   "cell_type": "code",
   "execution_count": 32,
   "id": "ff2a6903",
   "metadata": {},
   "outputs": [
    {
     "name": "stdout",
     "output_type": "stream",
     "text": [
      "       elevation                                           location  \\\n",
      "0    1572.958130  {'lat': 39.87762767868855, 'lng': -104.7969724...   \n",
      "1    1879.926758  {'lat': 40.06946747112484, 'lng': -105.3118446...   \n",
      "2    2094.060791  {'lat': 39.41391744309006, 'lng': -105.0796905...   \n",
      "3    1759.011353  {'lat': 39.67710513947833, 'lng': -104.6440969...   \n",
      "4    1499.167969  {'lat': 40.09364965303868, 'lng': -104.8529879...   \n",
      "..           ...                                                ...   \n",
      "295  1635.449829  {'lat': 39.83695914186348, 'lng': -105.0628073...   \n",
      "296  1802.043945  {'lat': 39.60345024588248, 'lng': -104.4915811...   \n",
      "297  1433.178711  {'lat': 40.31666773084797, 'lng': -104.8043597...   \n",
      "298  2000.032471  {'lat': 40.05315557399128, 'lng': -105.3103463...   \n",
      "299  2049.147705  {'lat': 39.94455744695547, 'lng': -105.2874664...   \n",
      "\n",
      "     resolution  haver_dist_from_epi  el_over_dist_ratio  elevation_diff  \n",
      "0    152.703232          13729.39540            0.001939       26.620361  \n",
      "1    305.406464          35630.99576            0.007868      280.348267  \n",
      "2    152.703232          55436.49703            0.008920      494.482300  \n",
      "3    305.406464          36529.14100            0.004365      159.432862  \n",
      "4    152.703232          22887.34241            0.004387      100.410522  \n",
      "..          ...                  ...                 ...             ...  \n",
      "295  152.703232          11812.79359            0.003037       35.871338  \n",
      "296  305.406464          51725.83131            0.003914      202.465454  \n",
      "297  152.703232          47729.65809            0.003486      166.399780  \n",
      "298  305.406464          34614.95670            0.011569      400.453980  \n",
      "299  305.406464          28770.94619            0.015626      449.569214  \n",
      "\n",
      "[300 rows x 6 columns]\n"
     ]
    }
   ],
   "source": [
    "print(thornton_df)"
   ]
  },
  {
   "cell_type": "code",
   "execution_count": 33,
   "id": "41cde5f9",
   "metadata": {},
   "outputs": [
    {
     "name": "stdout",
     "output_type": "stream",
     "text": [
      "      elevation                                           location  \\\n",
      "0    298.177948  {'lat': 41.23173067868855, 'lng': -95.83762949...   \n",
      "1    349.758514  {'lat': 41.42357047112484, 'lng': -96.35250164...   \n",
      "2    373.393341  {'lat': 40.76802044309007, 'lng': -96.12034750...   \n",
      "3    382.474335  {'lat': 41.03120813947833, 'lng': -95.68475394...   \n",
      "4    301.699585  {'lat': 41.44775265303868, 'lng': -95.89364496...   \n",
      "..          ...                                                ...   \n",
      "295  316.874664  {'lat': 41.19106214186348, 'lng': -96.10346438...   \n",
      "296  310.387451  {'lat': 40.95755324588248, 'lng': -95.53223812...   \n",
      "297  324.661041  {'lat': 41.67077073084796, 'lng': -95.84501672...   \n",
      "298  348.626434  {'lat': 41.40725857399129, 'lng': -96.35100338...   \n",
      "299  345.186432  {'lat': 41.29866044695547, 'lng': -96.32812341...   \n",
      "\n",
      "     resolution  haver_dist_from_epi  el_over_dist_ratio  elevation_diff  \n",
      "0    305.406464          13466.15610            0.004540       61.132477  \n",
      "1    305.406464          35109.43517            0.000272        9.551910  \n",
      "2    610.812927          55395.68953            0.000254       14.082916  \n",
      "3    305.406464          36146.74946            0.000641       23.163910  \n",
      "4    305.406464          22822.29219            0.002524       57.610840  \n",
      "..          ...                  ...                 ...             ...  \n",
      "295  305.406464          11668.44012            0.003637       42.435761  \n",
      "296  305.406464          51124.91870            0.000957       48.922974  \n",
      "297  305.406464          47661.40578            0.000727       34.649383  \n",
      "298  305.406464          34082.40157            0.000313       10.683991  \n",
      "299  305.406464          28208.94028            0.000501       14.123993  \n",
      "\n",
      "[300 rows x 6 columns]\n"
     ]
    }
   ],
   "source": [
    "omaha_df = pd.read_csv('omaha_ne_elevation.csv')\n",
    "print(omaha_df)"
   ]
  },
  {
   "cell_type": "code",
   "execution_count": 34,
   "id": "1e44aae4",
   "metadata": {},
   "outputs": [
    {
     "name": "stdout",
     "output_type": "stream",
     "text": [
      "      elevation                                           location  \\\n",
      "0    240.822082  {'lat': 37.96369867868855, 'lng': -121.8862134...   \n",
      "1      1.529585  {'lat': 38.15553847112484, 'lng': -122.4010856...   \n",
      "2      2.259292  {'lat': 37.49998844309007, 'lng': -122.1689315...   \n",
      "3    309.525543  {'lat': 37.76317613947833, 'lng': -121.7333379...   \n",
      "4      0.665573  {'lat': 38.17972065303869, 'lng': -121.9422289...   \n",
      "..          ...                                                ...   \n",
      "295  317.618744  {'lat': 37.92303014186349, 'lng': -122.1520483...   \n",
      "296  301.287231  {'lat': 37.68952124588248, 'lng': -121.5808221...   \n",
      "297   20.436710  {'lat': 38.40273873084797, 'lng': -121.8936007...   \n",
      "298    0.305499  {'lat': 38.13922657399128, 'lng': -122.3995873...   \n",
      "299  -12.325742  {'lat': 38.03062844695548, 'lng': -122.3767074...   \n",
      "\n",
      "     resolution  haver_dist_from_epi  el_over_dist_ratio  elevation_diff  \n",
      "0    305.406464          14089.27238            0.016308      229.771611  \n",
      "1    305.406464          36347.95515            0.000262        9.520886  \n",
      "2    305.406464          55493.48603            0.000158        8.791179  \n",
      "3    305.406464          37057.16505            0.008054      298.475072  \n",
      "4    305.406464          22978.02209            0.000452       10.384898  \n",
      "..          ...                  ...                 ...             ...  \n",
      "295  305.406464          12011.74508            0.025522      306.568273  \n",
      "296  305.406464          52554.41403            0.005523      290.236760  \n",
      "297  305.406464          47824.98405            0.000196        9.386239  \n",
      "298  305.406464          35346.37670            0.000304       10.744972  \n",
      "299  305.406464          29538.99988            0.000791       23.376213  \n",
      "\n",
      "[300 rows x 6 columns]\n"
     ]
    }
   ],
   "source": [
    "concord_df = pd.read_csv('concord_ca_elevation.csv')\n",
    "print(concord_df)"
   ]
  },
  {
   "cell_type": "code",
   "execution_count": 39,
   "id": "8baf19cb",
   "metadata": {},
   "outputs": [],
   "source": [
    "thornton_df['tag'] = 'thornton'\n",
    "concord_df['tag'] = 'concord'\n",
    "ann_arbor_df['tag'] = 'ann arbor'\n",
    "omaha_df['tag'] = 'omaha'\n"
   ]
  },
  {
   "cell_type": "code",
   "execution_count": 40,
   "id": "06c644ac",
   "metadata": {},
   "outputs": [],
   "source": [
    "all_4_df = pd.concat([thornton_df, ann_arbor_df, omaha_df, concord_df])"
   ]
  },
  {
   "cell_type": "code",
   "execution_count": 41,
   "id": "45ba48ec",
   "metadata": {},
   "outputs": [
    {
     "name": "stdout",
     "output_type": "stream",
     "text": [
      "       elevation                                           location  \\\n",
      "0    1572.958130  {'lat': 39.87762767868855, 'lng': -104.7969724...   \n",
      "1    1879.926758  {'lat': 40.06946747112484, 'lng': -105.3118446...   \n",
      "2    2094.060791  {'lat': 39.41391744309006, 'lng': -105.0796905...   \n",
      "3    1759.011353  {'lat': 39.67710513947833, 'lng': -104.6440969...   \n",
      "4    1499.167969  {'lat': 40.09364965303868, 'lng': -104.8529879...   \n",
      "..           ...                                                ...   \n",
      "295   317.618744  {'lat': 37.92303014186349, 'lng': -122.1520483...   \n",
      "296   301.287231  {'lat': 37.68952124588248, 'lng': -121.5808221...   \n",
      "297    20.436710  {'lat': 38.40273873084797, 'lng': -121.8936007...   \n",
      "298     0.305499  {'lat': 38.13922657399128, 'lng': -122.3995873...   \n",
      "299   -12.325742  {'lat': 38.03062844695548, 'lng': -122.3767074...   \n",
      "\n",
      "     resolution  haver_dist_from_epi  el_over_dist_ratio  elevation_diff  \\\n",
      "0    152.703232          13729.39540            0.001939       26.620361   \n",
      "1    305.406464          35630.99576            0.007868      280.348267   \n",
      "2    152.703232          55436.49703            0.008920      494.482300   \n",
      "3    305.406464          36529.14100            0.004365      159.432862   \n",
      "4    152.703232          22887.34241            0.004387      100.410522   \n",
      "..          ...                  ...                 ...             ...   \n",
      "295  305.406464          12011.74508            0.025522      306.568273   \n",
      "296  305.406464          52554.41403            0.005523      290.236760   \n",
      "297  305.406464          47824.98405            0.000196        9.386239   \n",
      "298  305.406464          35346.37670            0.000304       10.744972   \n",
      "299  305.406464          29538.99988            0.000791       23.376213   \n",
      "\n",
      "          tag  \n",
      "0    thornton  \n",
      "1    thornton  \n",
      "2    thornton  \n",
      "3    thornton  \n",
      "4    thornton  \n",
      "..        ...  \n",
      "295   concord  \n",
      "296   concord  \n",
      "297   concord  \n",
      "298   concord  \n",
      "299   concord  \n",
      "\n",
      "[1200 rows x 7 columns]\n"
     ]
    }
   ],
   "source": [
    "print(all_4_df)"
   ]
  },
  {
   "cell_type": "code",
   "execution_count": 42,
   "id": "d24670f5",
   "metadata": {},
   "outputs": [
    {
     "data": {
      "image/png": "[encoded data removed]",
      "text/plain": [
       "<Figure size 360x360 with 1 Axes>"
      ]
     },
     "metadata": {
      "needs_background": "light"
     },
     "output_type": "display_data"
    }
   ],
   "source": [
    "sns.catplot(x='tag', y='el_over_dist_ratio', kind='bar', data=all_4_df)\n",
    "plt.show()"
   ]
  },
  {
   "cell_type": "code",
   "execution_count": 43,
   "id": "e02efbb2",
   "metadata": {},
   "outputs": [
    {
     "data": {
      "image/png": "[encoded data removed]",
      "text/plain": [
       "<Figure size 1535.5x360 with 4 Axes>"
      ]
     },
     "metadata": {
      "needs_background": "light"
     },
     "output_type": "display_data"
    }
   ],
   "source": [
    "# fig, ax = plt.subplots(figsize=(8, 8))\n",
    "\n",
    "sns.relplot(x='haver_dist_from_epi', y='elevation_diff', hue='el_over_dist_ratio', col='tag', data=all_4_df)\n",
    "plt.show()"
   ]
  },
  {
   "cell_type": "code",
   "execution_count": 44,
   "id": "1ff2bbc6",
   "metadata": {},
   "outputs": [
    {
     "data": {
      "text/html": [
       "<div>\n",
       "<style scoped>\n",
       "    .dataframe tbody tr th:only-of-type {\n",
       "        vertical-align: middle;\n",
       "    }\n",
       "\n",
       "    .dataframe tbody tr th {\n",
       "        vertical-align: top;\n",
       "    }\n",
       "\n",
       "    .dataframe thead th {\n",
       "        text-align: right;\n",
       "    }\n",
       "</style>\n",
       "<table border=\"1\" class=\"dataframe\">\n",
       "  <thead>\n",
       "    <tr style=\"text-align: right;\">\n",
       "      <th></th>\n",
       "      <th>el_over_dist_ratio</th>\n",
       "      <th>elevation</th>\n",
       "      <th>elevation_diff</th>\n",
       "      <th>haver_dist_from_epi</th>\n",
       "      <th>resolution</th>\n",
       "    </tr>\n",
       "    <tr>\n",
       "      <th>tag</th>\n",
       "      <th></th>\n",
       "      <th></th>\n",
       "      <th></th>\n",
       "      <th></th>\n",
       "      <th></th>\n",
       "    </tr>\n",
       "  </thead>\n",
       "  <tbody>\n",
       "    <tr>\n",
       "      <th>ann arbor</th>\n",
       "      <td>0.001126</td>\n",
       "      <td>255.018827</td>\n",
       "      <td>37.790843</td>\n",
       "      <td>36633.166193</td>\n",
       "      <td>260.104505</td>\n",
       "    </tr>\n",
       "    <tr>\n",
       "      <th>concord</th>\n",
       "      <td>0.003696</td>\n",
       "      <td>119.798200</td>\n",
       "      <td>117.677544</td>\n",
       "      <td>37476.298178</td>\n",
       "      <td>320.676787</td>\n",
       "    </tr>\n",
       "    <tr>\n",
       "      <th>omaha</th>\n",
       "      <td>0.000988</td>\n",
       "      <td>349.082230</td>\n",
       "      <td>27.108759</td>\n",
       "      <td>36839.087302</td>\n",
       "      <td>322.712830</td>\n",
       "    </tr>\n",
       "    <tr>\n",
       "      <th>thornton</th>\n",
       "      <td>0.005554</td>\n",
       "      <td>1752.476045</td>\n",
       "      <td>226.387386</td>\n",
       "      <td>37107.000944</td>\n",
       "      <td>222.946718</td>\n",
       "    </tr>\n",
       "  </tbody>\n",
       "</table>\n",
       "</div>"
      ],
      "text/plain": [
       "           el_over_dist_ratio    elevation  elevation_diff  \\\n",
       "tag                                                          \n",
       "ann arbor            0.001126   255.018827       37.790843   \n",
       "concord              0.003696   119.798200      117.677544   \n",
       "omaha                0.000988   349.082230       27.108759   \n",
       "thornton             0.005554  1752.476045      226.387386   \n",
       "\n",
       "           haver_dist_from_epi  resolution  \n",
       "tag                                         \n",
       "ann arbor         36633.166193  260.104505  \n",
       "concord           37476.298178  320.676787  \n",
       "omaha             36839.087302  322.712830  \n",
       "thornton          37107.000944  222.946718  "
      ]
     },
     "execution_count": 44,
     "metadata": {},
     "output_type": "execute_result"
    }
   ],
   "source": [
    "pd.pivot_table(all_4_df, index='tag')"
   ]
  },
  {
   "cell_type": "code",
   "execution_count": 50,
   "id": "bacc4d62",
   "metadata": {},
   "outputs": [
    {
     "data": {
      "image/png": "[encoded data removed]",
      "text/plain": [
       "<Figure size 432x288 with 1 Axes>"
      ]
     },
     "metadata": {
      "needs_background": "light"
     },
     "output_type": "display_data"
    }
   ],
   "source": [
    "plt.hist(x=all_4_df[all_4_df['tag'] == 'thornton']['elevation_diff'] , bins=30)\n",
    "plt.show()"
   ]
  },
  {
   "cell_type": "code",
   "execution_count": 51,
   "id": "ad3a730c",
   "metadata": {},
   "outputs": [
    {
     "data": {
      "image/png": "[encoded data removed]",
      "text/plain": [
       "<Figure size 432x288 with 1 Axes>"
      ]
     },
     "metadata": {
      "needs_background": "light"
     },
     "output_type": "display_data"
    }
   ],
   "source": [
    "plt.hist(x=all_4_df[all_4_df['tag'] == 'concord']['elevation_diff'] , bins=30)\n",
    "plt.show()"
   ]
  },
  {
   "cell_type": "code",
   "execution_count": 52,
   "id": "3bdb1314",
   "metadata": {},
   "outputs": [
    {
     "data": {
      "image/png": "[encoded data removed]",
      "text/plain": [
       "<Figure size 432x288 with 1 Axes>"
      ]
     },
     "metadata": {
      "needs_background": "light"
     },
     "output_type": "display_data"
    }
   ],
   "source": [
    "plt.hist(x=all_4_df[all_4_df['tag'] == 'ann arbor']['elevation_diff'] , bins=30)\n",
    "plt.show()"
   ]
  },
  {
   "cell_type": "code",
   "execution_count": 53,
   "id": "c9cb3ebb",
   "metadata": {},
   "outputs": [
    {
     "data": {
      "image/png": "[encoded data removed]",
      "text/plain": [
       "<Figure size 432x288 with 1 Axes>"
      ]
     },
     "metadata": {
      "needs_background": "light"
     },
     "output_type": "display_data"
    }
   ],
   "source": [
    "plt.hist(x=all_4_df[all_4_df['tag'] == 'omaha']['elevation_diff'] , bins=30)\n",
    "plt.show()"
   ]
  },
  {
   "cell_type": "markdown",
   "id": "0eda0c6b",
   "metadata": {},
   "source": [
    "Note: The selection of the coordinates does not exclude bodies of water. This issue isnt so much a problem with the selected locations(average distance from location is ~20-25 miles), but I imagine it would cause problems with coastal locations."
   ]
  }
 ],
 "metadata": {
  "kernelspec": {
   "display_name": "Python 3 (ipykernel)",
   "language": "python",
   "name": "python3"
  },
  "language_info": {
   "codemirror_mode": {
    "name": "ipython",
    "version": 3
   },
   "file_extension": ".py",
   "mimetype": "text/x-python",
   "name": "python",
   "nbconvert_exporter": "python",
   "pygments_lexer": "ipython3",
   "version": "3.9.7"
  }
 },
 "nbformat": 4,
 "nbformat_minor": 5
}
